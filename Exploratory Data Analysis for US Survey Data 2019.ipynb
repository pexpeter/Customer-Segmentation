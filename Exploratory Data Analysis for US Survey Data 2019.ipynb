{
 "cells": [
  {
   "attachments": {},
   "cell_type": "markdown",
   "id": "652dd6ba",
   "metadata": {},
   "source": [
    "# Exploratory Data Analysis for US Survey Data 2019"
   ]
  },
  {
   "attachments": {},
   "cell_type": "markdown",
   "id": "3236c43b",
   "metadata": {},
   "source": [
    "## Importing Neccesary Packages"
   ]
  },
  {
   "cell_type": "code",
   "execution_count": null,
   "id": "1020e0dc",
   "metadata": {},
   "outputs": [],
   "source": [
    "import pandas as pd\n",
    "import seaborn as sns\n",
    "import matplotlib.pyplot as plt\n"
   ]
  },
  {
   "attachments": {},
   "cell_type": "markdown",
   "id": "04162b93",
   "metadata": {},
   "source": [
    "## Reading our Data"
   ]
  },
  {
   "cell_type": "code",
   "execution_count": null,
   "id": "6843a526",
   "metadata": {},
   "outputs": [],
   "source": [
    "df = pd.read_csv(\"C:/Users/Admin 21/Downloads/Customer Segmentation/Data/SCFP2019.csv\")"
   ]
  },
  {
   "cell_type": "code",
   "execution_count": null,
   "id": "508549aa",
   "metadata": {},
   "outputs": [
    {
     "data": {
      "text/html": [
       "<div>\n",
       "<style scoped>\n",
       "    .dataframe tbody tr th:only-of-type {\n",
       "        vertical-align: middle;\n",
       "    }\n",
       "\n",
       "    .dataframe tbody tr th {\n",
       "        vertical-align: top;\n",
       "    }\n",
       "\n",
       "    .dataframe thead th {\n",
       "        text-align: right;\n",
       "    }\n",
       "</style>\n",
       "<table border=\"1\" class=\"dataframe\">\n",
       "  <thead>\n",
       "    <tr style=\"text-align: right;\">\n",
       "      <th></th>\n",
       "      <th>YY1</th>\n",
       "      <th>Y1</th>\n",
       "      <th>WGT</th>\n",
       "      <th>HHSEX</th>\n",
       "      <th>AGE</th>\n",
       "      <th>AGECL</th>\n",
       "      <th>EDUC</th>\n",
       "      <th>EDCL</th>\n",
       "      <th>MARRIED</th>\n",
       "      <th>KIDS</th>\n",
       "      <th>...</th>\n",
       "      <th>NWCAT</th>\n",
       "      <th>INCCAT</th>\n",
       "      <th>ASSETCAT</th>\n",
       "      <th>NINCCAT</th>\n",
       "      <th>NINC2CAT</th>\n",
       "      <th>NWPCTLECAT</th>\n",
       "      <th>INCPCTLECAT</th>\n",
       "      <th>NINCPCTLECAT</th>\n",
       "      <th>INCQRTCAT</th>\n",
       "      <th>NINCQRTCAT</th>\n",
       "    </tr>\n",
       "  </thead>\n",
       "  <tbody>\n",
       "    <tr>\n",
       "      <th>0</th>\n",
       "      <td>1</td>\n",
       "      <td>11</td>\n",
       "      <td>6119.779308</td>\n",
       "      <td>2</td>\n",
       "      <td>75</td>\n",
       "      <td>6</td>\n",
       "      <td>12</td>\n",
       "      <td>4</td>\n",
       "      <td>2</td>\n",
       "      <td>0</td>\n",
       "      <td>...</td>\n",
       "      <td>5</td>\n",
       "      <td>3</td>\n",
       "      <td>6</td>\n",
       "      <td>3</td>\n",
       "      <td>2</td>\n",
       "      <td>10</td>\n",
       "      <td>6</td>\n",
       "      <td>6</td>\n",
       "      <td>3</td>\n",
       "      <td>3</td>\n",
       "    </tr>\n",
       "    <tr>\n",
       "      <th>1</th>\n",
       "      <td>1</td>\n",
       "      <td>12</td>\n",
       "      <td>4712.374912</td>\n",
       "      <td>2</td>\n",
       "      <td>75</td>\n",
       "      <td>6</td>\n",
       "      <td>12</td>\n",
       "      <td>4</td>\n",
       "      <td>2</td>\n",
       "      <td>0</td>\n",
       "      <td>...</td>\n",
       "      <td>5</td>\n",
       "      <td>3</td>\n",
       "      <td>6</td>\n",
       "      <td>3</td>\n",
       "      <td>1</td>\n",
       "      <td>10</td>\n",
       "      <td>5</td>\n",
       "      <td>5</td>\n",
       "      <td>2</td>\n",
       "      <td>2</td>\n",
       "    </tr>\n",
       "    <tr>\n",
       "      <th>2</th>\n",
       "      <td>1</td>\n",
       "      <td>13</td>\n",
       "      <td>5145.224455</td>\n",
       "      <td>2</td>\n",
       "      <td>75</td>\n",
       "      <td>6</td>\n",
       "      <td>12</td>\n",
       "      <td>4</td>\n",
       "      <td>2</td>\n",
       "      <td>0</td>\n",
       "      <td>...</td>\n",
       "      <td>5</td>\n",
       "      <td>3</td>\n",
       "      <td>6</td>\n",
       "      <td>3</td>\n",
       "      <td>1</td>\n",
       "      <td>10</td>\n",
       "      <td>5</td>\n",
       "      <td>5</td>\n",
       "      <td>2</td>\n",
       "      <td>2</td>\n",
       "    </tr>\n",
       "    <tr>\n",
       "      <th>3</th>\n",
       "      <td>1</td>\n",
       "      <td>14</td>\n",
       "      <td>5297.663412</td>\n",
       "      <td>2</td>\n",
       "      <td>75</td>\n",
       "      <td>6</td>\n",
       "      <td>12</td>\n",
       "      <td>4</td>\n",
       "      <td>2</td>\n",
       "      <td>0</td>\n",
       "      <td>...</td>\n",
       "      <td>5</td>\n",
       "      <td>2</td>\n",
       "      <td>6</td>\n",
       "      <td>2</td>\n",
       "      <td>1</td>\n",
       "      <td>10</td>\n",
       "      <td>4</td>\n",
       "      <td>4</td>\n",
       "      <td>2</td>\n",
       "      <td>2</td>\n",
       "    </tr>\n",
       "    <tr>\n",
       "      <th>4</th>\n",
       "      <td>1</td>\n",
       "      <td>15</td>\n",
       "      <td>4761.812371</td>\n",
       "      <td>2</td>\n",
       "      <td>75</td>\n",
       "      <td>6</td>\n",
       "      <td>12</td>\n",
       "      <td>4</td>\n",
       "      <td>2</td>\n",
       "      <td>0</td>\n",
       "      <td>...</td>\n",
       "      <td>5</td>\n",
       "      <td>3</td>\n",
       "      <td>6</td>\n",
       "      <td>3</td>\n",
       "      <td>1</td>\n",
       "      <td>10</td>\n",
       "      <td>5</td>\n",
       "      <td>5</td>\n",
       "      <td>2</td>\n",
       "      <td>2</td>\n",
       "    </tr>\n",
       "  </tbody>\n",
       "</table>\n",
       "<p>5 rows × 351 columns</p>\n",
       "</div>"
      ],
      "text/plain": [
       "   YY1  Y1          WGT  HHSEX  AGE  AGECL  EDUC  EDCL  MARRIED  KIDS  ...  \\\n",
       "0    1  11  6119.779308      2   75      6    12     4        2     0  ...   \n",
       "1    1  12  4712.374912      2   75      6    12     4        2     0  ...   \n",
       "2    1  13  5145.224455      2   75      6    12     4        2     0  ...   \n",
       "3    1  14  5297.663412      2   75      6    12     4        2     0  ...   \n",
       "4    1  15  4761.812371      2   75      6    12     4        2     0  ...   \n",
       "\n",
       "   NWCAT  INCCAT  ASSETCAT  NINCCAT  NINC2CAT  NWPCTLECAT  INCPCTLECAT  \\\n",
       "0      5       3         6        3         2          10            6   \n",
       "1      5       3         6        3         1          10            5   \n",
       "2      5       3         6        3         1          10            5   \n",
       "3      5       2         6        2         1          10            4   \n",
       "4      5       3         6        3         1          10            5   \n",
       "\n",
       "   NINCPCTLECAT  INCQRTCAT  NINCQRTCAT  \n",
       "0             6          3           3  \n",
       "1             5          2           2  \n",
       "2             5          2           2  \n",
       "3             4          2           2  \n",
       "4             5          2           2  \n",
       "\n",
       "[5 rows x 351 columns]"
      ]
     },
     "execution_count": 57,
     "metadata": {},
     "output_type": "execute_result"
    }
   ],
   "source": [
    "df.head() "
   ]
  },
  {
   "attachments": {},
   "cell_type": "markdown",
   "id": "fffa63e7",
   "metadata": {},
   "source": [
    "## Gender "
   ]
  },
  {
   "attachments": {},
   "cell_type": "markdown",
   "id": "e5620f9f",
   "metadata": {},
   "source": [
    "HHSEX - Gender of the reference person\n",
    "\n",
    "Gender identity includes:\n",
    "\n",
    "\t1\tmale\n",
    "\t2\tfemale"
   ]
  },
  {
   "cell_type": "code",
   "execution_count": null,
   "id": "72b9eb84",
   "metadata": {},
   "outputs": [],
   "source": [
    "df[\"HHSEX\"] = df[\"HHSEX\"].replace([1,2],[\"male\",\"female\"])"
   ]
  },
  {
   "cell_type": "code",
   "execution_count": null,
   "id": "dfeab8ec",
   "metadata": {},
   "outputs": [
    {
     "data": {
      "text/html": [
       "<div>\n",
       "<style scoped>\n",
       "    .dataframe tbody tr th:only-of-type {\n",
       "        vertical-align: middle;\n",
       "    }\n",
       "\n",
       "    .dataframe tbody tr th {\n",
       "        vertical-align: top;\n",
       "    }\n",
       "\n",
       "    .dataframe thead th {\n",
       "        text-align: right;\n",
       "    }\n",
       "</style>\n",
       "<table border=\"1\" class=\"dataframe\">\n",
       "  <thead>\n",
       "    <tr style=\"text-align: right;\">\n",
       "      <th></th>\n",
       "      <th>YY1</th>\n",
       "      <th>Y1</th>\n",
       "      <th>WGT</th>\n",
       "      <th>HHSEX</th>\n",
       "      <th>AGE</th>\n",
       "      <th>AGECL</th>\n",
       "      <th>EDUC</th>\n",
       "      <th>EDCL</th>\n",
       "      <th>MARRIED</th>\n",
       "      <th>KIDS</th>\n",
       "      <th>...</th>\n",
       "      <th>NWCAT</th>\n",
       "      <th>INCCAT</th>\n",
       "      <th>ASSETCAT</th>\n",
       "      <th>NINCCAT</th>\n",
       "      <th>NINC2CAT</th>\n",
       "      <th>NWPCTLECAT</th>\n",
       "      <th>INCPCTLECAT</th>\n",
       "      <th>NINCPCTLECAT</th>\n",
       "      <th>INCQRTCAT</th>\n",
       "      <th>NINCQRTCAT</th>\n",
       "    </tr>\n",
       "  </thead>\n",
       "  <tbody>\n",
       "    <tr>\n",
       "      <th>0</th>\n",
       "      <td>1</td>\n",
       "      <td>11</td>\n",
       "      <td>6119.779308</td>\n",
       "      <td>female</td>\n",
       "      <td>75</td>\n",
       "      <td>6</td>\n",
       "      <td>12</td>\n",
       "      <td>4</td>\n",
       "      <td>2</td>\n",
       "      <td>0</td>\n",
       "      <td>...</td>\n",
       "      <td>5</td>\n",
       "      <td>3</td>\n",
       "      <td>6</td>\n",
       "      <td>3</td>\n",
       "      <td>2</td>\n",
       "      <td>10</td>\n",
       "      <td>6</td>\n",
       "      <td>6</td>\n",
       "      <td>3</td>\n",
       "      <td>3</td>\n",
       "    </tr>\n",
       "    <tr>\n",
       "      <th>1</th>\n",
       "      <td>1</td>\n",
       "      <td>12</td>\n",
       "      <td>4712.374912</td>\n",
       "      <td>female</td>\n",
       "      <td>75</td>\n",
       "      <td>6</td>\n",
       "      <td>12</td>\n",
       "      <td>4</td>\n",
       "      <td>2</td>\n",
       "      <td>0</td>\n",
       "      <td>...</td>\n",
       "      <td>5</td>\n",
       "      <td>3</td>\n",
       "      <td>6</td>\n",
       "      <td>3</td>\n",
       "      <td>1</td>\n",
       "      <td>10</td>\n",
       "      <td>5</td>\n",
       "      <td>5</td>\n",
       "      <td>2</td>\n",
       "      <td>2</td>\n",
       "    </tr>\n",
       "    <tr>\n",
       "      <th>2</th>\n",
       "      <td>1</td>\n",
       "      <td>13</td>\n",
       "      <td>5145.224455</td>\n",
       "      <td>female</td>\n",
       "      <td>75</td>\n",
       "      <td>6</td>\n",
       "      <td>12</td>\n",
       "      <td>4</td>\n",
       "      <td>2</td>\n",
       "      <td>0</td>\n",
       "      <td>...</td>\n",
       "      <td>5</td>\n",
       "      <td>3</td>\n",
       "      <td>6</td>\n",
       "      <td>3</td>\n",
       "      <td>1</td>\n",
       "      <td>10</td>\n",
       "      <td>5</td>\n",
       "      <td>5</td>\n",
       "      <td>2</td>\n",
       "      <td>2</td>\n",
       "    </tr>\n",
       "    <tr>\n",
       "      <th>3</th>\n",
       "      <td>1</td>\n",
       "      <td>14</td>\n",
       "      <td>5297.663412</td>\n",
       "      <td>female</td>\n",
       "      <td>75</td>\n",
       "      <td>6</td>\n",
       "      <td>12</td>\n",
       "      <td>4</td>\n",
       "      <td>2</td>\n",
       "      <td>0</td>\n",
       "      <td>...</td>\n",
       "      <td>5</td>\n",
       "      <td>2</td>\n",
       "      <td>6</td>\n",
       "      <td>2</td>\n",
       "      <td>1</td>\n",
       "      <td>10</td>\n",
       "      <td>4</td>\n",
       "      <td>4</td>\n",
       "      <td>2</td>\n",
       "      <td>2</td>\n",
       "    </tr>\n",
       "    <tr>\n",
       "      <th>4</th>\n",
       "      <td>1</td>\n",
       "      <td>15</td>\n",
       "      <td>4761.812371</td>\n",
       "      <td>female</td>\n",
       "      <td>75</td>\n",
       "      <td>6</td>\n",
       "      <td>12</td>\n",
       "      <td>4</td>\n",
       "      <td>2</td>\n",
       "      <td>0</td>\n",
       "      <td>...</td>\n",
       "      <td>5</td>\n",
       "      <td>3</td>\n",
       "      <td>6</td>\n",
       "      <td>3</td>\n",
       "      <td>1</td>\n",
       "      <td>10</td>\n",
       "      <td>5</td>\n",
       "      <td>5</td>\n",
       "      <td>2</td>\n",
       "      <td>2</td>\n",
       "    </tr>\n",
       "  </tbody>\n",
       "</table>\n",
       "<p>5 rows × 351 columns</p>\n",
       "</div>"
      ],
      "text/plain": [
       "   YY1  Y1          WGT   HHSEX  AGE  AGECL  EDUC  EDCL  MARRIED  KIDS  ...  \\\n",
       "0    1  11  6119.779308  female   75      6    12     4        2     0  ...   \n",
       "1    1  12  4712.374912  female   75      6    12     4        2     0  ...   \n",
       "2    1  13  5145.224455  female   75      6    12     4        2     0  ...   \n",
       "3    1  14  5297.663412  female   75      6    12     4        2     0  ...   \n",
       "4    1  15  4761.812371  female   75      6    12     4        2     0  ...   \n",
       "\n",
       "   NWCAT  INCCAT  ASSETCAT  NINCCAT  NINC2CAT  NWPCTLECAT  INCPCTLECAT  \\\n",
       "0      5       3         6        3         2          10            6   \n",
       "1      5       3         6        3         1          10            5   \n",
       "2      5       3         6        3         1          10            5   \n",
       "3      5       2         6        2         1          10            4   \n",
       "4      5       3         6        3         1          10            5   \n",
       "\n",
       "   NINCPCTLECAT  INCQRTCAT  NINCQRTCAT  \n",
       "0             6          3           3  \n",
       "1             5          2           2  \n",
       "2             5          2           2  \n",
       "3             4          2           2  \n",
       "4             5          2           2  \n",
       "\n",
       "[5 rows x 351 columns]"
      ]
     },
     "execution_count": 59,
     "metadata": {},
     "output_type": "execute_result"
    }
   ],
   "source": [
    "df.head()"
   ]
  },
  {
   "attachments": {},
   "cell_type": "markdown",
   "id": "6b9da830",
   "metadata": {},
   "source": [
    "## AGE GROUP"
   ]
  },
  {
   "attachments": {},
   "cell_type": "markdown",
   "id": "c2705c41",
   "metadata": {},
   "source": [
    "AGECL - Age group of the reference person\n",
    "\n",
    "Age groups are:\n",
    "\n",
    "```\n",
    "1.  <35      \n",
    "2.  35-44    \n",
    "3.  45-54 \n",
    "4.  55-64\n",
    "5.  65-74 \n",
    "6.  (>=75) \n",
    "```"
   ]
  },
  {
   "cell_type": "code",
   "execution_count": null,
   "id": "59318281",
   "metadata": {},
   "outputs": [],
   "source": [
    "age_group = {\n",
    "    \n",
    "    1: \"under 35\",\n",
    "    2: \"35-44\",\n",
    "    3: \"45-54\",\n",
    "    4: \"55-64\",\n",
    "    5: \"65-74\",\n",
    "    6: \"75 and Above\"\n",
    "    }"
   ]
  },
  {
   "cell_type": "code",
   "execution_count": null,
   "id": "c7240f34",
   "metadata": {},
   "outputs": [],
   "source": [
    "df[\"AGECL\"] = df[\"AGECL\"].replace(age_group)"
   ]
  },
  {
   "cell_type": "code",
   "execution_count": null,
   "id": "447e81c5",
   "metadata": {},
   "outputs": [
    {
     "data": {
      "text/plain": [
       "<AxesSubplot: title={'center': 'Age Distribution'}, xlabel='Age Group', ylabel='Percentage proportion'>"
      ]
     },
     "execution_count": 62,
     "metadata": {},
     "output_type": "execute_result"
    },
    {
     "data": {
      "image/png": "[encoded data removed]",
      "text/plain": [
       "<Figure size 640x480 with 1 Axes>"
      ]
     },
     "metadata": {},
     "output_type": "display_data"
    }
   ],
   "source": [
    "(df[\"AGECL\"].value_counts(normalize=True)*100).plot(kind=\"bar\",\n",
    "                                                    xlabel=\"Age Group\",\n",
    "                                                    ylabel= \"Percentage proportion\",\n",
    "                                                    title= \"Age Distribution\",\n",
    "                                                    color=\"darkblue\"\n",
    "                                                    )\n"
   ]
  },
  {
   "attachments": {},
   "cell_type": "markdown",
   "id": "696c0c6b",
   "metadata": {},
   "source": [
    "## EDCL"
   ]
  },
  {
   "attachments": {},
   "cell_type": "markdown",
   "id": "cac3ac14",
   "metadata": {},
   "source": [
    "Education category of reference person\n",
    "\n",
    "Text of this Question or Item:\n",
    "```\n",
    "1. no high school diploma/GED\n",
    "2. high school diploma or GED\n",
    "3. some college\n",
    "4. college degree\n",
    "```"
   ]
  },
  {
   "cell_type": "code",
   "execution_count": null,
   "id": "23e1f65c",
   "metadata": {},
   "outputs": [],
   "source": [
    "edu_cat = {\n",
    "    \n",
    "    1: \"no high school diploma/GED\",\n",
    "    2: \"high school diploma or GED\",\n",
    "    3: \"some college\",\n",
    "    4: \"college degree\"\n",
    "    \n",
    "    \n",
    "}"
   ]
  },
  {
   "cell_type": "code",
   "execution_count": null,
   "id": "182ee810",
   "metadata": {},
   "outputs": [],
   "source": [
    "df[\"EDCL\"] = df[\"EDCL\"].replace(edu_cat)"
   ]
  },
  {
   "cell_type": "code",
   "execution_count": null,
   "id": "5d7363ec",
   "metadata": {},
   "outputs": [
    {
     "data": {
      "text/plain": [
       "college degree                13270\n",
       "some college                   7032\n",
       "high school diploma or GED     6016\n",
       "no high school diploma/GED     2567\n",
       "Name: EDCL, dtype: int64"
      ]
     },
     "execution_count": 65,
     "metadata": {},
     "output_type": "execute_result"
    }
   ],
   "source": [
    "df[\"EDCL\"].value_counts()"
   ]
  },
  {
   "cell_type": "code",
   "execution_count": null,
   "id": "97c42b52",
   "metadata": {},
   "outputs": [
    {
     "data": {
      "text/plain": [
       "count    2.888500e+04\n",
       "mean     1.375703e+07\n",
       "std      7.921992e+07\n",
       "min      0.000000e+00\n",
       "25%      5.020000e+04\n",
       "50%      3.676000e+05\n",
       "75%      1.831400e+06\n",
       "max      1.967199e+09\n",
       "Name: ASSET, dtype: float64"
      ]
     },
     "execution_count": 66,
     "metadata": {},
     "output_type": "execute_result"
    }
   ],
   "source": [
    "df[\"ASSET\"].describe()"
   ]
  },
  {
   "attachments": {},
   "cell_type": "markdown",
   "id": "2e6662f6",
   "metadata": {},
   "source": [
    "## INCCAT"
   ]
  },
  {
   "attachments": {},
   "cell_type": "markdown",
   "id": "8cb7479a",
   "metadata": {},
   "source": [
    "Income percentile groups\n",
    "\n",
    "Text of this Question or Item\n",
    "\n",
    "Income percentile groups:\n",
    "```\n",
    "1 = 0-20 \n",
    "\n",
    "2 = 20-39.9\n",
    "\n",
    "3 = 40-59.9\n",
    "\n",
    "4 = 60-79.9\n",
    "\n",
    "5 = 80-89.9\n",
    "\n",
    "6 = 90-100\n",
    "```"
   ]
  },
  {
   "cell_type": "code",
   "execution_count": null,
   "id": "639fc525",
   "metadata": {},
   "outputs": [],
   "source": [
    "inc_group={\n",
    "    \n",
    "    1: \"0-20\",\n",
    "\n",
    "    2: \"20-39.9\",\n",
    "\n",
    "    3: \"40-59.9\",\n",
    "\n",
    "    4: \"60-79.9\",\n",
    "\n",
    "    5: \"80-89.9\",\n",
    "\n",
    "    6: \"90-100\"\n",
    "\n",
    "}"
   ]
  },
  {
   "cell_type": "code",
   "execution_count": null,
   "id": "1083f7fa",
   "metadata": {},
   "outputs": [],
   "source": [
    "df[\"INCCAT\"] = df[\"INCCAT\"].replace(inc_group)"
   ]
  },
  {
   "cell_type": "code",
   "execution_count": null,
   "id": "9938659d",
   "metadata": {},
   "outputs": [
    {
     "data": {
      "text/plain": [
       "90-100     0.257539\n",
       "60-79.9    0.168080\n",
       "0-20       0.163995\n",
       "40-59.9    0.156863\n",
       "20-39.9    0.155202\n",
       "80-89.9    0.098321\n",
       "Name: INCCAT, dtype: float64"
      ]
     },
     "execution_count": 69,
     "metadata": {},
     "output_type": "execute_result"
    }
   ],
   "source": [
    "df[\"INCCAT\"].value_counts(normalize=True)"
   ]
  },
  {
   "attachments": {},
   "cell_type": "markdown",
   "id": "710539b3",
   "metadata": {},
   "source": [
    "## DEBT"
   ]
  },
  {
   "attachments": {},
   "cell_type": "markdown",
   "id": "b5a32955",
   "metadata": {},
   "source": [
    "Total value of debt held by household, 2019 dollars\n",
    "\n",
    "Text of this Question or Item\n",
    "\n",
    "Includes principal `residence debt` (mortgages and HELOCs), `other lines of credit`, `debt for other residential`,`property`, `credit card debt`, `installment loans`,and `other debt`."
   ]
  },
  {
   "cell_type": "code",
   "execution_count": null,
   "id": "3ce1ba54",
   "metadata": {},
   "outputs": [
    {
     "data": {
      "text/plain": [
       "count    2.888500e+04\n",
       "mean     2.986258e+05\n",
       "std      3.532772e+06\n",
       "min      0.000000e+00\n",
       "25%      0.000000e+00\n",
       "50%      2.703000e+04\n",
       "75%      1.900000e+05\n",
       "max      2.640600e+08\n",
       "Name: DEBT, dtype: float64"
      ]
     },
     "execution_count": 70,
     "metadata": {},
     "output_type": "execute_result"
    }
   ],
   "source": [
    "df[\"DEBT\"].describe()"
   ]
  },
  {
   "attachments": {},
   "cell_type": "markdown",
   "id": "3322ba58",
   "metadata": {},
   "source": [
    "## TURNFEAR"
   ]
  },
  {
   "attachments": {},
   "cell_type": "markdown",
   "id": "29b7d87b",
   "metadata": {},
   "source": [
    "Household has been turned down for credit or feared being denied credit in the past 5 years\n",
    "\n",
    "Label\n",
    "\n",
    "\t0\tno\n",
    "\t1\tyes\n"
   ]
  },
  {
   "cell_type": "code",
   "execution_count": null,
   "id": "2044edd8",
   "metadata": {},
   "outputs": [
    {
     "data": {
      "text/plain": [
       "0    24262\n",
       "1     4623\n",
       "Name: TURNFEAR, dtype: int64"
      ]
     },
     "execution_count": 71,
     "metadata": {},
     "output_type": "execute_result"
    }
   ],
   "source": [
    "df[\"TURNFEAR\"].value_counts()"
   ]
  },
  {
   "attachments": {},
   "cell_type": "markdown",
   "id": "616ee730",
   "metadata": {},
   "source": [
    "## EDUC"
   ]
  },
  {
   "attachments": {},
   "cell_type": "markdown",
   "id": "417e896c",
   "metadata": {},
   "source": [
    "Highest completed grade by reference person\n",
    "```\n",
    "    Value\tLabel\n",
    "\n",
    "       -1\tLESS THAN 1ST GRADE \n",
    "        1\t1ST, 2ND, 3RD, OR 4TH GRADE\n",
    "        2\t5TH OR 6TH GRADE\n",
    "        4\t9TH GRADE\n",
    "        5\t10TH GRADE\n",
    "        6\t11TH GRADE\n",
    "        7\t12TH GRADE, NO DIPLOMA\n",
    "        8\tHIGH SCHOOL GRADUATE - HIGH SCHOOL DIPLOMA OR EQUIVALENT\n",
    "        9\tSOME COLLEGE BUT NO DEGREE\n",
    "        10\tASSOCIATE DEGREE IN COLLEGE - OCCUPATION/VOCATION PROGRAM\n",
    "        11\tASSOCIATE DEGREE IN COLLEGE - ACADEMIC PROGRAM\n",
    "        12\tBACHELOR'S DEGREE (FOR EXAMPLE: BA, AB, BS)\n",
    "        13\tMASTER'S DEGREE\n",
    "        14\tDOCTORATE OR PROFESSIONAL SCHOOL DEGREE\n",
    "\n",
    "```"
   ]
  },
  {
   "cell_type": "code",
   "execution_count": null,
   "id": "00747cea",
   "metadata": {},
   "outputs": [
    {
     "data": {
      "text/plain": [
       " 12    6887\n",
       " 8     6016\n",
       " 9     4131\n",
       " 13    3936\n",
       " 14    2447\n",
       " 10    1523\n",
       " 11    1378\n",
       " 7      676\n",
       " 6      480\n",
       " 4      372\n",
       " 5      332\n",
       " 3      327\n",
       " 2      200\n",
       " 1      135\n",
       "-1       45\n",
       "Name: EDUC, dtype: int64"
      ]
     },
     "execution_count": 72,
     "metadata": {},
     "output_type": "execute_result"
    }
   ],
   "source": [
    "df[\"EDUC\"].value_counts()"
   ]
  },
  {
   "cell_type": "markdown",
   "id": "74ecfff9",
   "metadata": {},
   "source": []
  },
  {
   "attachments": {},
   "cell_type": "markdown",
   "id": "cc30b0dd",
   "metadata": {},
   "source": [
    "## ASSET\n"
   ]
  },
  {
   "attachments": {},
   "cell_type": "markdown",
   "id": "881f8093",
   "metadata": {},
   "source": [
    "\n",
    "Total value of assets held by household, 2019 dollars\n",
    "\n",
    "The sum of financial assets and nonfinancial assets."
   ]
  },
  {
   "cell_type": "code",
   "execution_count": null,
   "id": "41074ab6",
   "metadata": {},
   "outputs": [
    {
     "data": {
      "text/plain": [
       "count    2.888500e+04\n",
       "mean     1.375703e+07\n",
       "std      7.921992e+07\n",
       "min      0.000000e+00\n",
       "25%      5.020000e+04\n",
       "50%      3.676000e+05\n",
       "75%      1.831400e+06\n",
       "max      1.967199e+09\n",
       "Name: ASSET, dtype: float64"
      ]
     },
     "execution_count": 73,
     "metadata": {},
     "output_type": "execute_result"
    }
   ],
   "source": [
    "df[\"ASSET\"].describe()"
   ]
  },
  {
   "attachments": {},
   "cell_type": "markdown",
   "id": "f4507ad7",
   "metadata": {},
   "source": [
    "## HOUSES\n"
   ]
  },
  {
   "attachments": {},
   "cell_type": "markdown",
   "id": "1e456461",
   "metadata": {},
   "source": [
    "Total value of primary residence of household, 2019 dollars\n",
    "\n",
    "Value of primary residence. Excludes the part of a farm  or ranch used in a farming or ranching business."
   ]
  },
  {
   "cell_type": "code",
   "execution_count": null,
   "id": "19861049",
   "metadata": {},
   "outputs": [
    {
     "data": {
      "text/plain": [
       "count    2.888500e+04\n",
       "mean     7.245646e+05\n",
       "std      2.618799e+06\n",
       "min      0.000000e+00\n",
       "25%      0.000000e+00\n",
       "50%      1.800000e+05\n",
       "75%      4.930000e+05\n",
       "max      1.064800e+08\n",
       "Name: HOUSES, dtype: float64"
      ]
     },
     "execution_count": 74,
     "metadata": {},
     "output_type": "execute_result"
    }
   ],
   "source": [
    "df[\"HOUSES\"].describe()"
   ]
  },
  {
   "attachments": {},
   "cell_type": "markdown",
   "id": "01b02354",
   "metadata": {},
   "source": [
    "# Comparison between Low Credit Score Households and High Credit Score Households"
   ]
  },
  {
   "attachments": {},
   "cell_type": "markdown",
   "id": "7d2bb716",
   "metadata": {},
   "source": [
    "### Education"
   ]
  },
  {
   "cell_type": "code",
   "execution_count": null,
   "id": "46d065a5",
   "metadata": {},
   "outputs": [],
   "source": [
    "df_education = (df[\"EDUC\"]\n",
    ".groupby(df[\"TURNFEAR\"])\n",
    ".value_counts(normalize=True)\n",
    ".rename(\"frequency\")\n",
    ".to_frame()\n",
    ".reset_index()\n",
    ")"
   ]
  },
  {
   "attachments": {},
   "cell_type": "markdown",
   "id": "5a473fbf",
   "metadata": {},
   "source": [
    "####  Visualization Education comparison between Low Credit Score Households and High Credit Score Households"
   ]
  },
  {
   "cell_type": "code",
   "execution_count": null,
   "id": "5889326c",
   "metadata": {},
   "outputs": [
    {
     "data": {
      "text/plain": [
       "Text(0.5, 1.0, 'Education Level: Low Credit Score Households VS  High Credit Score Households')"
      ]
     },
     "execution_count": 76,
     "metadata": {},
     "output_type": "execute_result"
    },
    {
     "data": {
      "image/png": "[encoded data removed]",
      "text/plain": [
       "<Figure size 640x480 with 1 Axes>"
      ]
     },
     "metadata": {},
     "output_type": "display_data"
    }
   ],
   "source": [
    "sns.barplot(x=\"EDUC\",\n",
    "            y=\"frequency\",\n",
    "            hue=\"TURNFEAR\",\n",
    "            data = df_education\n",
    "            )\n",
    "plt.xlabel(\"Education Level\")\n",
    "plt.ylabel(\"Frequency [%]\")\n",
    "plt.title(\"Education Level: Low Credit Score Households VS  High Credit Score Households\")"
   ]
  },
  {
   "attachments": {},
   "cell_type": "markdown",
   "id": "15791241",
   "metadata": {},
   "source": [
    "From the visualization we can see the following levels probability of being turned down for credit is very low compared to the other levels.\n",
    "\n",
    "```\n",
    " \t12\tBACHELOR'S DEGREE (FOR EXAMPLE: BA, AB, BS)\n",
    "        13\tMASTER'S DEGREE\n",
    "        14\tDOCTORATE OR PROFESSIONAL SCHOOL DEGREE\n",
    "```\n"
   ]
  },
  {
   "attachments": {},
   "cell_type": "markdown",
   "id": "e45f9778",
   "metadata": {},
   "source": [
    "### ASSET VS DEBT"
   ]
  },
  {
   "cell_type": "code",
   "execution_count": null,
   "id": "c6e8c671",
   "metadata": {},
   "outputs": [
    {
     "data": {
      "text/plain": [
       "Text(0.5, 1.0, 'ASSET VS DEBT')"
      ]
     },
     "execution_count": 77,
     "metadata": {},
     "output_type": "execute_result"
    },
    {
     "data": {
      "image/png": "[encoded data removed]",
      "text/plain": [
       "<Figure size 640x480 with 1 Axes>"
      ]
     },
     "metadata": {},
     "output_type": "display_data"
    }
   ],
   "source": [
    "df.plot.scatter(x=\"DEBT\", y= \"ASSET\",c=\"darkblue\")\n",
    "plt.title(\"ASSET VS DEBT\")"
   ]
  },
  {
   "attachments": {},
   "cell_type": "markdown",
   "id": "99694065",
   "metadata": {},
   "source": [
    "We can note that people with assets tends to have smaller debts."
   ]
  },
  {
   "attachments": {},
   "cell_type": "markdown",
   "id": "d73d6a5c",
   "metadata": {},
   "source": [
    "A deeper look in households with low credit score asset vs debt comparison below shows most have debt equal to their assets or lesser."
   ]
  },
  {
   "cell_type": "code",
   "execution_count": null,
   "id": "df34f8c0",
   "metadata": {},
   "outputs": [
    {
     "data": {
      "text/plain": [
       "Text(0.5, 1.0, 'Low Credit Score: ASSET VS DEBT')"
      ]
     },
     "execution_count": 78,
     "metadata": {},
     "output_type": "execute_result"
    },
    {
     "data": {
      "image/png": "[encoded data removed]",
      "text/plain": [
       "<Figure size 640x480 with 1 Axes>"
      ]
     },
     "metadata": {},
     "output_type": "display_data"
    }
   ],
   "source": [
    "df[df[\"TURNFEAR\"]==1].plot.scatter(x=\"DEBT\", y= \"ASSET\",c=\"darkblue\")\n",
    "plt.title(\"Low Credit Score: ASSET VS DEBT\")"
   ]
  },
  {
   "attachments": {},
   "cell_type": "markdown",
   "id": "2a6720e9",
   "metadata": {},
   "source": [
    "The Asset vs Debt doesnot have any clustering. Next we'll look House vs Debt."
   ]
  },
  {
   "attachments": {},
   "cell_type": "markdown",
   "id": "bfa1be72",
   "metadata": {},
   "source": [
    "### HOUSE VS DEBT"
   ]
  },
  {
   "cell_type": "code",
   "execution_count": null,
   "id": "57c4fb98",
   "metadata": {},
   "outputs": [
    {
     "data": {
      "text/plain": [
       "Text(0.5, 1.0, 'HOUSE VS DEBT')"
      ]
     },
     "execution_count": 79,
     "metadata": {},
     "output_type": "execute_result"
    },
    {
     "data": {
      "image/png": "[encoded data removed]",
      "text/plain": [
       "<Figure size 640x480 with 1 Axes>"
      ]
     },
     "metadata": {},
     "output_type": "display_data"
    }
   ],
   "source": [
    "df.plot.scatter(x=\"DEBT\", y=\"HOUSES\")\n",
    "plt.title(\"HOUSE VS DEBT\")"
   ]
  },
  {
   "attachments": {},
   "cell_type": "markdown",
   "id": "ea553957",
   "metadata": {},
   "source": [
    "The graph doesn't show any clustering and most of the households with less debt their house values are high."
   ]
  },
  {
   "cell_type": "code",
   "execution_count": null,
   "id": "ce1602f3",
   "metadata": {},
   "outputs": [
    {
     "data": {
      "text/plain": [
       "Text(0.5, 1.0, 'Low Credit Score: HOUSE VS DEBT')"
      ]
     },
     "execution_count": 80,
     "metadata": {},
     "output_type": "execute_result"
    },
    {
     "data": {
      "image/png": "[encoded data removed]",
      "text/plain": [
       "<Figure size 640x480 with 1 Axes>"
      ]
     },
     "metadata": {},
     "output_type": "display_data"
    }
   ],
   "source": [
    "df[df[\"TURNFEAR\"]==1].plot.scatter(x=\"DEBT\", y= \"HOUSES\",c=\"darkblue\")\n",
    "plt.title(\"Low Credit Score: HOUSE VS DEBT\")"
   ]
  },
  {
   "attachments": {},
   "cell_type": "markdown",
   "id": "48b81f4a",
   "metadata": {},
   "source": [
    "The graph exhibits several clusters in those households with low credit score."
   ]
  },
  {
   "attachments": {},
   "cell_type": "markdown",
   "id": "ea59a8d8",
   "metadata": {},
   "source": [
    "# Low Credit Score Households\n"
   ]
  },
  {
   "attachments": {},
   "cell_type": "markdown",
   "id": "5e30ccd5",
   "metadata": {},
   "source": [
    "Subset of our dataset with households that have been turned down for credit or feared being denied credit in the past 5 years."
   ]
  },
  {
   "cell_type": "code",
   "execution_count": null,
   "id": "88da1e42",
   "metadata": {},
   "outputs": [
    {
     "data": {
      "text/html": [
       "<div>\n",
       "<style scoped>\n",
       "    .dataframe tbody tr th:only-of-type {\n",
       "        vertical-align: middle;\n",
       "    }\n",
       "\n",
       "    .dataframe tbody tr th {\n",
       "        vertical-align: top;\n",
       "    }\n",
       "\n",
       "    .dataframe thead th {\n",
       "        text-align: right;\n",
       "    }\n",
       "</style>\n",
       "<table border=\"1\" class=\"dataframe\">\n",
       "  <thead>\n",
       "    <tr style=\"text-align: right;\">\n",
       "      <th></th>\n",
       "      <th>YY1</th>\n",
       "      <th>Y1</th>\n",
       "      <th>WGT</th>\n",
       "      <th>HHSEX</th>\n",
       "      <th>AGE</th>\n",
       "      <th>AGECL</th>\n",
       "      <th>EDUC</th>\n",
       "      <th>EDCL</th>\n",
       "      <th>MARRIED</th>\n",
       "      <th>KIDS</th>\n",
       "      <th>...</th>\n",
       "      <th>NWCAT</th>\n",
       "      <th>INCCAT</th>\n",
       "      <th>ASSETCAT</th>\n",
       "      <th>NINCCAT</th>\n",
       "      <th>NINC2CAT</th>\n",
       "      <th>NWPCTLECAT</th>\n",
       "      <th>INCPCTLECAT</th>\n",
       "      <th>NINCPCTLECAT</th>\n",
       "      <th>INCQRTCAT</th>\n",
       "      <th>NINCQRTCAT</th>\n",
       "    </tr>\n",
       "  </thead>\n",
       "  <tbody>\n",
       "    <tr>\n",
       "      <th>5</th>\n",
       "      <td>2</td>\n",
       "      <td>21</td>\n",
       "      <td>3790.476607</td>\n",
       "      <td>male</td>\n",
       "      <td>50</td>\n",
       "      <td>45-54</td>\n",
       "      <td>8</td>\n",
       "      <td>high school diploma or GED</td>\n",
       "      <td>1</td>\n",
       "      <td>3</td>\n",
       "      <td>...</td>\n",
       "      <td>1</td>\n",
       "      <td>20-39.9</td>\n",
       "      <td>1</td>\n",
       "      <td>2</td>\n",
       "      <td>1</td>\n",
       "      <td>1</td>\n",
       "      <td>4</td>\n",
       "      <td>4</td>\n",
       "      <td>2</td>\n",
       "      <td>2</td>\n",
       "    </tr>\n",
       "    <tr>\n",
       "      <th>6</th>\n",
       "      <td>2</td>\n",
       "      <td>22</td>\n",
       "      <td>3798.868505</td>\n",
       "      <td>male</td>\n",
       "      <td>50</td>\n",
       "      <td>45-54</td>\n",
       "      <td>8</td>\n",
       "      <td>high school diploma or GED</td>\n",
       "      <td>1</td>\n",
       "      <td>3</td>\n",
       "      <td>...</td>\n",
       "      <td>1</td>\n",
       "      <td>20-39.9</td>\n",
       "      <td>1</td>\n",
       "      <td>2</td>\n",
       "      <td>1</td>\n",
       "      <td>1</td>\n",
       "      <td>4</td>\n",
       "      <td>3</td>\n",
       "      <td>2</td>\n",
       "      <td>2</td>\n",
       "    </tr>\n",
       "    <tr>\n",
       "      <th>7</th>\n",
       "      <td>2</td>\n",
       "      <td>23</td>\n",
       "      <td>3799.468393</td>\n",
       "      <td>male</td>\n",
       "      <td>50</td>\n",
       "      <td>45-54</td>\n",
       "      <td>8</td>\n",
       "      <td>high school diploma or GED</td>\n",
       "      <td>1</td>\n",
       "      <td>3</td>\n",
       "      <td>...</td>\n",
       "      <td>1</td>\n",
       "      <td>20-39.9</td>\n",
       "      <td>1</td>\n",
       "      <td>2</td>\n",
       "      <td>1</td>\n",
       "      <td>1</td>\n",
       "      <td>4</td>\n",
       "      <td>4</td>\n",
       "      <td>2</td>\n",
       "      <td>2</td>\n",
       "    </tr>\n",
       "    <tr>\n",
       "      <th>8</th>\n",
       "      <td>2</td>\n",
       "      <td>24</td>\n",
       "      <td>3788.076005</td>\n",
       "      <td>male</td>\n",
       "      <td>50</td>\n",
       "      <td>45-54</td>\n",
       "      <td>8</td>\n",
       "      <td>high school diploma or GED</td>\n",
       "      <td>1</td>\n",
       "      <td>3</td>\n",
       "      <td>...</td>\n",
       "      <td>1</td>\n",
       "      <td>20-39.9</td>\n",
       "      <td>1</td>\n",
       "      <td>2</td>\n",
       "      <td>1</td>\n",
       "      <td>1</td>\n",
       "      <td>4</td>\n",
       "      <td>4</td>\n",
       "      <td>2</td>\n",
       "      <td>2</td>\n",
       "    </tr>\n",
       "    <tr>\n",
       "      <th>9</th>\n",
       "      <td>2</td>\n",
       "      <td>25</td>\n",
       "      <td>3793.066589</td>\n",
       "      <td>male</td>\n",
       "      <td>50</td>\n",
       "      <td>45-54</td>\n",
       "      <td>8</td>\n",
       "      <td>high school diploma or GED</td>\n",
       "      <td>1</td>\n",
       "      <td>3</td>\n",
       "      <td>...</td>\n",
       "      <td>1</td>\n",
       "      <td>20-39.9</td>\n",
       "      <td>1</td>\n",
       "      <td>2</td>\n",
       "      <td>1</td>\n",
       "      <td>1</td>\n",
       "      <td>4</td>\n",
       "      <td>4</td>\n",
       "      <td>2</td>\n",
       "      <td>2</td>\n",
       "    </tr>\n",
       "  </tbody>\n",
       "</table>\n",
       "<p>5 rows × 351 columns</p>\n",
       "</div>"
      ],
      "text/plain": [
       "   YY1  Y1          WGT HHSEX  AGE  AGECL  EDUC                        EDCL  \\\n",
       "5    2  21  3790.476607  male   50  45-54     8  high school diploma or GED   \n",
       "6    2  22  3798.868505  male   50  45-54     8  high school diploma or GED   \n",
       "7    2  23  3799.468393  male   50  45-54     8  high school diploma or GED   \n",
       "8    2  24  3788.076005  male   50  45-54     8  high school diploma or GED   \n",
       "9    2  25  3793.066589  male   50  45-54     8  high school diploma or GED   \n",
       "\n",
       "   MARRIED  KIDS  ...  NWCAT   INCCAT  ASSETCAT  NINCCAT  NINC2CAT  \\\n",
       "5        1     3  ...      1  20-39.9         1        2         1   \n",
       "6        1     3  ...      1  20-39.9         1        2         1   \n",
       "7        1     3  ...      1  20-39.9         1        2         1   \n",
       "8        1     3  ...      1  20-39.9         1        2         1   \n",
       "9        1     3  ...      1  20-39.9         1        2         1   \n",
       "\n",
       "   NWPCTLECAT  INCPCTLECAT  NINCPCTLECAT  INCQRTCAT  NINCQRTCAT  \n",
       "5           1            4             4          2           2  \n",
       "6           1            4             3          2           2  \n",
       "7           1            4             4          2           2  \n",
       "8           1            4             4          2           2  \n",
       "9           1            4             4          2           2  \n",
       "\n",
       "[5 rows x 351 columns]"
      ]
     },
     "execution_count": 81,
     "metadata": {},
     "output_type": "execute_result"
    }
   ],
   "source": [
    "df_credit=df[df[\"TURNFEAR\"]==1]\n",
    "df_credit.head(5)\n"
   ]
  },
  {
   "cell_type": "code",
   "execution_count": null,
   "id": "9a7ca13c",
   "metadata": {},
   "outputs": [
    {
     "name": "stdout",
     "output_type": "stream",
     "text": [
      "<class 'pandas.core.frame.DataFrame'>\n",
      "Int64Index: 4623 entries, 5 to 28869\n",
      "Columns: 351 entries, YY1 to NINCQRTCAT\n",
      "dtypes: float64(74), int64(273), object(4)\n",
      "memory usage: 12.4+ MB\n"
     ]
    }
   ],
   "source": [
    "df_credit.info()"
   ]
  },
  {
   "cell_type": "code",
   "execution_count": null,
   "id": "e24b61e8",
   "metadata": {},
   "outputs": [
    {
     "data": {
      "text/plain": [
       "(4623, 351)"
      ]
     },
     "execution_count": 83,
     "metadata": {},
     "output_type": "execute_result"
    }
   ],
   "source": [
    "df_credit.shape"
   ]
  },
  {
   "attachments": {},
   "cell_type": "markdown",
   "id": "51f3a592",
   "metadata": {},
   "source": [
    "## Saving our subset data set to ``csv`` file"
   ]
  },
  {
   "cell_type": "code",
   "execution_count": null,
   "id": "dccb4978",
   "metadata": {},
   "outputs": [],
   "source": [
    "df_credit.to_csv('C:/Users/Admin 21/Downloads/Customer Segmentation/Data/df_credit.csv')"
   ]
  }
 ],
 "metadata": {
  "kernelspec": {
   "display_name": "Python 3",
   "language": "python",
   "name": "python3"
  },
  "language_info": {
   "codemirror_mode": {
    "name": "ipython",
    "version": 3
   },
   "file_extension": ".py",
   "mimetype": "text/x-python",
   "name": "python",
   "nbconvert_exporter": "python",
   "pygments_lexer": "ipython3",
   "version": "3.9.13"
  },
  "vscode": {
   "interpreter": {
    "hash": "0e2b774fbaab44ff543f02a32ce55460e0d4e68f77640d9e006920ee1173c352"
   }
  }
 },
 "nbformat": 4,
 "nbformat_minor": 5
}
